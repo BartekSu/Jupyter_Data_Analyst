{
 "cells": [
  {
   "cell_type": "code",
   "execution_count": 3,
   "id": "d2734e35-4958-4dda-9d9c-7ce70fb28250",
   "metadata": {},
   "outputs": [],
   "source": [
    "import numpy as np"
   ]
  },
  {
   "cell_type": "code",
   "execution_count": 4,
   "id": "37791259-e7c7-4cd7-8fec-f22bf41965f4",
   "metadata": {},
   "outputs": [
    {
     "name": "stdout",
     "output_type": "stream",
     "text": [
      "[1 5 3 6]\n"
     ]
    }
   ],
   "source": [
    "first_numpy_array = np.array([1,5,3,6])\n",
    "print(first_numpy_array)"
   ]
  },
  {
   "cell_type": "code",
   "execution_count": 5,
   "id": "b17bb974-f6f3-4855-8fb4-7078bed197a1",
   "metadata": {},
   "outputs": [
    {
     "data": {
      "text/plain": [
       "array([[0., 0., 0.],\n",
       "       [0., 0., 0.],\n",
       "       [0., 0., 0.]])"
      ]
     },
     "execution_count": 5,
     "metadata": {},
     "output_type": "execute_result"
    }
   ],
   "source": [
    "array_with_zeros = np.zeros((3,3))\n",
    "array_with_zeros"
   ]
  },
  {
   "cell_type": "code",
   "execution_count": 6,
   "id": "989370c5-14f7-4fb5-9078-b44895cdacf7",
   "metadata": {},
   "outputs": [
    {
     "data": {
      "text/plain": [
       "array([[1., 1., 1.],\n",
       "       [1., 1., 1.],\n",
       "       [1., 1., 1.]])"
      ]
     },
     "execution_count": 6,
     "metadata": {},
     "output_type": "execute_result"
    }
   ],
   "source": [
    "array_with_ones = np.ones((3,3))\n",
    "array_with_ones"
   ]
  },
  {
   "cell_type": "code",
   "execution_count": 7,
   "id": "e7d38393-10e4-4f52-98cd-8625d05b9b48",
   "metadata": {},
   "outputs": [
    {
     "data": {
      "text/plain": [
       "array([ 0,  1,  2,  3,  4,  5,  6,  7,  8,  9, 10, 11])"
      ]
     },
     "execution_count": 7,
     "metadata": {},
     "output_type": "execute_result"
    }
   ],
   "source": [
    "np_arange = np.arange(12)\n",
    "np_arange"
   ]
  },
  {
   "cell_type": "code",
   "execution_count": 8,
   "id": "ba012e56-0142-4f5b-943f-87c9b8676578",
   "metadata": {},
   "outputs": [
    {
     "data": {
      "text/plain": [
       "array([[ 0,  1,  2,  3],\n",
       "       [ 4,  5,  6,  7],\n",
       "       [ 8,  9, 10, 11]])"
      ]
     },
     "execution_count": 8,
     "metadata": {},
     "output_type": "execute_result"
    }
   ],
   "source": [
    "np_arange.reshape(3,4)"
   ]
  },
  {
   "cell_type": "code",
   "execution_count": 9,
   "id": "6122d345-d78d-4941-afb4-6874b81784e2",
   "metadata": {},
   "outputs": [
    {
     "data": {
      "text/plain": [
       "array([1.  , 2.75, 4.5 , 6.25, 8.  ])"
      ]
     },
     "execution_count": 9,
     "metadata": {},
     "output_type": "execute_result"
    }
   ],
   "source": [
    "np_linspace =np.linspace(1,8,5)\n",
    "np_linspace"
   ]
  },
  {
   "cell_type": "code",
   "execution_count": 10,
   "id": "88e7107d-be71-445e-aa04-0cabfa5d5ddc",
   "metadata": {},
   "outputs": [
    {
     "data": {
      "text/plain": [
       "array([[[ 0,  1,  2],\n",
       "        [ 3,  4,  5],\n",
       "        [ 6,  7,  8]],\n",
       "\n",
       "       [[ 9, 10, 11],\n",
       "        [12, 13, 14],\n",
       "        [15, 16, 17]],\n",
       "\n",
       "       [[18, 19, 20],\n",
       "        [21, 22, 23],\n",
       "        [24, 25, 26]]])"
      ]
     },
     "execution_count": 10,
     "metadata": {},
     "output_type": "execute_result"
    }
   ],
   "source": [
    "ThreeD_array = np.arange(27).reshape(3,3,3)\n",
    "ThreeD_array"
   ]
  },
  {
   "cell_type": "code",
   "execution_count": 52,
   "id": "13ead62e-3741-4569-9b40-fd690f3653f1",
   "metadata": {},
   "outputs": [
    {
     "data": {
      "text/plain": [
       "array(24)"
      ]
     },
     "execution_count": 52,
     "metadata": {},
     "output_type": "execute_result"
    }
   ],
   "source": [
    "np.array(24)"
   ]
  },
  {
   "cell_type": "code",
   "execution_count": 12,
   "id": "401dc847-d7d8-4d1d-a230-e108e110f972",
   "metadata": {},
   "outputs": [
    {
     "data": {
      "text/plain": [
       "array([1, 2, 3, 4])"
      ]
     },
     "execution_count": 12,
     "metadata": {},
     "output_type": "execute_result"
    }
   ],
   "source": [
    "np.array([1,2,3,4])"
   ]
  },
  {
   "cell_type": "code",
   "execution_count": 13,
   "id": "972e871c-afe1-4f70-8c60-405c822e0647",
   "metadata": {},
   "outputs": [
    {
     "data": {
      "text/plain": [
       "array([[1, 1, 1],\n",
       "       [1, 2, 1]])"
      ]
     },
     "execution_count": 13,
     "metadata": {},
     "output_type": "execute_result"
    }
   ],
   "source": [
    "np.array([[1,1,1],\n",
    "         [1,2,1]])"
   ]
  },
  {
   "cell_type": "code",
   "execution_count": 14,
   "id": "25372b39-7f80-49d6-96c2-4742a6809b29",
   "metadata": {},
   "outputs": [
    {
     "data": {
      "text/plain": [
       "array([[[1, 1, 1],\n",
       "        [2, 2, 2]],\n",
       "\n",
       "       [[3, 3, 3],\n",
       "        [4, 4, 4]]])"
      ]
     },
     "execution_count": 14,
     "metadata": {},
     "output_type": "execute_result"
    }
   ],
   "source": [
    "np.array([[[1,1,1],\n",
    "         [2,2,2]],[[3,3,3],[4,4,4]]])"
   ]
  },
  {
   "cell_type": "code",
   "execution_count": 15,
   "id": "c54637cc-039b-4277-85ea-b4b58648ab45",
   "metadata": {},
   "outputs": [],
   "source": [
    "numpy_arr = np.array([[[1,1,1],[2,2,2]],[[3,3,3],[4,4,4]]])"
   ]
  },
  {
   "cell_type": "code",
   "execution_count": 16,
   "id": "870ce24e-8932-474e-825a-f024191624be",
   "metadata": {},
   "outputs": [
    {
     "data": {
      "text/plain": [
       "(2, 2, 3)"
      ]
     },
     "execution_count": 16,
     "metadata": {},
     "output_type": "execute_result"
    }
   ],
   "source": [
    "numpy_arr.shape"
   ]
  },
  {
   "cell_type": "code",
   "execution_count": 17,
   "id": "cb8a4afe-84c0-4530-bcdd-6d4e9b6bb6fd",
   "metadata": {},
   "outputs": [
    {
     "data": {
      "text/plain": [
       "3"
      ]
     },
     "execution_count": 17,
     "metadata": {},
     "output_type": "execute_result"
    }
   ],
   "source": [
    "numpy_arr.ndim"
   ]
  },
  {
   "cell_type": "code",
   "execution_count": 18,
   "id": "a3353055-7e5a-41f8-9755-1d95df542535",
   "metadata": {},
   "outputs": [],
   "source": [
    "A = ([1,3,8],[2,3,5])\n",
    "B = ([1,8,4])"
   ]
  },
  {
   "cell_type": "code",
   "execution_count": 19,
   "id": "b89380ef-1f3b-4737-a181-ec3c99157f6c",
   "metadata": {},
   "outputs": [
    {
     "data": {
      "text/plain": [
       "array([[ 2, 11, 12],\n",
       "       [ 3, 11,  9]])"
      ]
     },
     "execution_count": 19,
     "metadata": {},
     "output_type": "execute_result"
    }
   ],
   "source": [
    "#dodawanie\n",
    "np.add(A,B)"
   ]
  },
  {
   "cell_type": "code",
   "execution_count": 20,
   "id": "74d50e2f-3567-461b-9c44-09217cc5c900",
   "metadata": {},
   "outputs": [
    {
     "data": {
      "text/plain": [
       "array([[ 0,  5, -4],\n",
       "       [-1,  5, -1]])"
      ]
     },
     "execution_count": 20,
     "metadata": {},
     "output_type": "execute_result"
    }
   ],
   "source": [
    "#odejmowanie\n",
    "np.subtract(B,A)"
   ]
  },
  {
   "cell_type": "code",
   "execution_count": 21,
   "id": "04bac763-acee-498b-9a25-d66324191062",
   "metadata": {},
   "outputs": [
    {
     "data": {
      "text/plain": [
       "array([[ 1, 24, 32],\n",
       "       [ 2, 24, 20]])"
      ]
     },
     "execution_count": 21,
     "metadata": {},
     "output_type": "execute_result"
    }
   ],
   "source": [
    "#mnożenie\n",
    "np.multiply(A,B)"
   ]
  },
  {
   "cell_type": "code",
   "execution_count": 22,
   "id": "c8e426a6-39f2-4c7b-b43b-f95343a078a4",
   "metadata": {},
   "outputs": [
    {
     "data": {
      "text/plain": [
       "array([[1.   , 0.375, 2.   ],\n",
       "       [2.   , 0.375, 1.25 ]])"
      ]
     },
     "execution_count": 22,
     "metadata": {},
     "output_type": "execute_result"
    }
   ],
   "source": [
    "#dzielenie\n",
    "np.divide(A,B)"
   ]
  },
  {
   "cell_type": "code",
   "execution_count": 23,
   "id": "1b7ab6ea-622e-4a6f-8713-2e8f7f5b624c",
   "metadata": {},
   "outputs": [
    {
     "data": {
      "text/plain": [
       "array([[ 1,  9, 64],\n",
       "       [ 4,  9, 25]], dtype=int32)"
      ]
     },
     "execution_count": 23,
     "metadata": {},
     "output_type": "execute_result"
    }
   ],
   "source": [
    "#potęga\n",
    "np.power(A,2)"
   ]
  },
  {
   "cell_type": "code",
   "execution_count": 24,
   "id": "0c1c8db1-a073-4b76-ab11-742ad2f072b1",
   "metadata": {},
   "outputs": [
    {
     "data": {
      "text/plain": [
       "array([0, 1, 2, 3, 4, 5, 6, 7, 8, 9])"
      ]
     },
     "execution_count": 24,
     "metadata": {},
     "output_type": "execute_result"
    }
   ],
   "source": [
    "X = np.array([i for i in range(10)])\n",
    "X"
   ]
  },
  {
   "cell_type": "code",
   "execution_count": 25,
   "id": "18797d00-c104-4501-86f0-a93cc6f27660",
   "metadata": {},
   "outputs": [
    {
     "data": {
      "text/plain": [
       "array(['Parzysta', 'Nieparzysta', 'Parzysta', 'Nieparzysta', 'Parzysta',\n",
       "       'Nieparzysta', 'Parzysta', 'Nieparzysta', 'Parzysta',\n",
       "       'Nieparzysta'], dtype='<U11')"
      ]
     },
     "execution_count": 25,
     "metadata": {},
     "output_type": "execute_result"
    }
   ],
   "source": [
    "np.where(X%2==0, 'Parzysta', 'Nieparzysta')"
   ]
  },
  {
   "cell_type": "code",
   "execution_count": 27,
   "id": "fc2eb295-1816-488c-a580-e6d7cece80de",
   "metadata": {},
   "outputs": [
    {
     "data": {
      "text/plain": [
       "array([  0,   1,   4,   9,  16,   5, 216, 343, 512, 729])"
      ]
     },
     "execution_count": 27,
     "metadata": {},
     "output_type": "execute_result"
    }
   ],
   "source": [
    "condlist = [X<5,X>5]\n",
    "choicelist = [X**2,X**3]\n",
    "Y = np.select(condlist,choicelist,default=X)\n",
    "Y"
   ]
  },
  {
   "cell_type": "code",
   "execution_count": 28,
   "id": "9f24017b-114b-41bd-922e-2c02eec89d06",
   "metadata": {},
   "outputs": [
    {
     "data": {
      "text/plain": [
       "array([[  0,   1,   4,   9,  16],\n",
       "       [  5, 216, 343, 512, 729]])"
      ]
     },
     "execution_count": 28,
     "metadata": {},
     "output_type": "execute_result"
    }
   ],
   "source": [
    "Z = Y.reshape(2,5)\n",
    "Z"
   ]
  },
  {
   "cell_type": "code",
   "execution_count": 29,
   "id": "f803cb72-c252-4907-91bf-cfb00b40238e",
   "metadata": {},
   "outputs": [
    {
     "data": {
      "text/plain": [
       "0"
      ]
     },
     "execution_count": 29,
     "metadata": {},
     "output_type": "execute_result"
    }
   ],
   "source": [
    "#minimalna liczba\n",
    "np.amin(Z)"
   ]
  },
  {
   "cell_type": "code",
   "execution_count": 30,
   "id": "9c05fd02-2c6c-4637-9860-76936a6ae768",
   "metadata": {},
   "outputs": [
    {
     "data": {
      "text/plain": [
       "array([ 0,  1,  4,  9, 16])"
      ]
     },
     "execution_count": 30,
     "metadata": {},
     "output_type": "execute_result"
    }
   ],
   "source": [
    "#minimalna liczba w osi X\n",
    "np.amin(Z,axis=0)"
   ]
  },
  {
   "cell_type": "code",
   "execution_count": 31,
   "id": "4f115f72-45d0-4c6f-8d31-79482ae86caf",
   "metadata": {},
   "outputs": [
    {
     "data": {
      "text/plain": [
       "array([0, 5])"
      ]
     },
     "execution_count": 31,
     "metadata": {},
     "output_type": "execute_result"
    }
   ],
   "source": [
    "#minimalna liczba w osi Y\n",
    "np.amin(Z,axis=1)"
   ]
  },
  {
   "cell_type": "code",
   "execution_count": 32,
   "id": "5be145b3-cb3d-4419-b9cd-9a785f720224",
   "metadata": {},
   "outputs": [
    {
     "data": {
      "text/plain": [
       "array([  5, 216, 343, 512, 729])"
      ]
     },
     "execution_count": 32,
     "metadata": {},
     "output_type": "execute_result"
    }
   ],
   "source": [
    "#max liczba w osi X\n",
    "np.amax(Z,axis=0)"
   ]
  },
  {
   "cell_type": "code",
   "execution_count": 33,
   "id": "d97dff85-4115-4237-8933-b206cabfc933",
   "metadata": {},
   "outputs": [
    {
     "data": {
      "text/plain": [
       "array([ 16, 729])"
      ]
     },
     "execution_count": 33,
     "metadata": {},
     "output_type": "execute_result"
    }
   ],
   "source": [
    "#max liczba w osi Y\n",
    "np.amax(Z,axis=1)"
   ]
  },
  {
   "cell_type": "code",
   "execution_count": 34,
   "id": "eb04d75c-ac67-4592-bb1b-a5750aa4c434",
   "metadata": {},
   "outputs": [
    {
     "data": {
      "text/plain": [
       "12.5"
      ]
     },
     "execution_count": 34,
     "metadata": {},
     "output_type": "execute_result"
    }
   ],
   "source": [
    "np.percentile(Z,50)"
   ]
  },
  {
   "cell_type": "code",
   "execution_count": 35,
   "id": "17651fc4-95f3-4a45-aef4-2b8c9c2bc9e6",
   "metadata": {},
   "outputs": [
    {
     "data": {
      "text/plain": [
       "array([ 0, 30, 45, 60, 90])"
      ]
     },
     "execution_count": 35,
     "metadata": {},
     "output_type": "execute_result"
    }
   ],
   "source": [
    "deg = np.array([0,30,45,60,90])\n",
    "deg"
   ]
  },
  {
   "cell_type": "code",
   "execution_count": 36,
   "id": "063b678a-664a-4c63-a145-3b34d9983df4",
   "metadata": {},
   "outputs": [
    {
     "data": {
      "text/plain": [
       "array([0.        , 0.5       , 0.70710678, 0.8660254 , 1.        ])"
      ]
     },
     "execution_count": 36,
     "metadata": {},
     "output_type": "execute_result"
    }
   ],
   "source": [
    "np.sin(deg*np.pi/180)"
   ]
  },
  {
   "cell_type": "code",
   "execution_count": 37,
   "id": "ff1458a1-bd17-42d0-b40c-56fcaaee68ca",
   "metadata": {},
   "outputs": [],
   "source": [
    "#dostęp do poszczególnych liczb z macierzy"
   ]
  },
  {
   "cell_type": "code",
   "execution_count": 38,
   "id": "c42a0eaa-e669-4f15-8fef-a01e75d28713",
   "metadata": {},
   "outputs": [
    {
     "data": {
      "text/plain": [
       "array([1, 2, 3, 4, 5, 6])"
      ]
     },
     "execution_count": 38,
     "metadata": {},
     "output_type": "execute_result"
    }
   ],
   "source": [
    "array_1d = np.array([1,2,3,4,5,6])\n",
    "array_1d"
   ]
  },
  {
   "cell_type": "code",
   "execution_count": 42,
   "id": "791e32e3-cb6f-4f16-bac6-d279effde7d8",
   "metadata": {},
   "outputs": [
    {
     "data": {
      "text/plain": [
       "1"
      ]
     },
     "execution_count": 42,
     "metadata": {},
     "output_type": "execute_result"
    }
   ],
   "source": [
    "#pierwszy element maciery 2d\n",
    "array_1d[0]"
   ]
  },
  {
   "cell_type": "code",
   "execution_count": 45,
   "id": "b06dcc8d-a6c4-457c-8894-60e79f176e09",
   "metadata": {},
   "outputs": [
    {
     "data": {
      "text/plain": [
       "array([2, 3, 4, 5, 6])"
      ]
     },
     "execution_count": 45,
     "metadata": {},
     "output_type": "execute_result"
    }
   ],
   "source": [
    "#cięcie macierzy\n",
    "array_1d[1:]"
   ]
  },
  {
   "cell_type": "code",
   "execution_count": 46,
   "id": "c137dede-be50-4f7d-b9d1-127df15318f2",
   "metadata": {},
   "outputs": [
    {
     "data": {
      "text/plain": [
       "array([2, 3, 4, 5])"
      ]
     },
     "execution_count": 46,
     "metadata": {},
     "output_type": "execute_result"
    }
   ],
   "source": [
    "#cięcie macierzy określony zakres\n",
    "array_1d[1:5]"
   ]
  },
  {
   "cell_type": "code",
   "execution_count": 47,
   "id": "75408834-05c3-409a-9250-0e909b4f52a4",
   "metadata": {},
   "outputs": [
    {
     "data": {
      "text/plain": [
       "array([2, 3, 4, 5])"
      ]
     },
     "execution_count": 47,
     "metadata": {},
     "output_type": "execute_result"
    }
   ],
   "source": [
    "#inny sposób (od końca)\n",
    "array_1d[-5:-1]"
   ]
  },
  {
   "cell_type": "code",
   "execution_count": 39,
   "id": "b03ba153-f998-4444-9a20-2f544d38dd91",
   "metadata": {},
   "outputs": [
    {
     "data": {
      "text/plain": [
       "array([[3, 2, 1],\n",
       "       [4, 5, 6]])"
      ]
     },
     "execution_count": 39,
     "metadata": {},
     "output_type": "execute_result"
    }
   ],
   "source": [
    "array_2d = np.array([[3,2,1],[4,5,6]])\n",
    "array_2d"
   ]
  },
  {
   "cell_type": "code",
   "execution_count": 49,
   "id": "b9211c80-83cc-4c1f-9e5a-2b87f925997a",
   "metadata": {},
   "outputs": [
    {
     "data": {
      "text/plain": [
       "3"
      ]
     },
     "execution_count": 49,
     "metadata": {},
     "output_type": "execute_result"
    }
   ],
   "source": [
    "#pierwszy element maciery 2d\n",
    "array_2d[0,0]"
   ]
  },
  {
   "cell_type": "code",
   "execution_count": 51,
   "id": "729ff9ea-b003-410c-9de7-82b164d42941",
   "metadata": {},
   "outputs": [
    {
     "data": {
      "text/plain": [
       "array([4, 5])"
      ]
     },
     "execution_count": 51,
     "metadata": {},
     "output_type": "execute_result"
    }
   ],
   "source": [
    "#cięcie drugi wiersz od drugiego eleemntu do trzeciego\n",
    "array_2d[1,0:2]"
   ]
  },
  {
   "cell_type": "code",
   "execution_count": 53,
   "id": "2a569758-c01e-4db3-993b-fcab82c44998",
   "metadata": {},
   "outputs": [
    {
     "data": {
      "text/plain": [
       "array([[[ 1,  2,  3],\n",
       "        [ 4,  5,  6]],\n",
       "\n",
       "       [[ 7,  8,  9],\n",
       "        [10, 11, 12]]])"
      ]
     },
     "execution_count": 53,
     "metadata": {},
     "output_type": "execute_result"
    }
   ],
   "source": [
    "array_3d = np.array([[[1,2,3],[4,5,6]],[[7,8,9],[10,11,12]]])\n",
    "array_3d"
   ]
  },
  {
   "cell_type": "code",
   "execution_count": 54,
   "id": "7eb61d78-ea2b-47da-9d25-520eac0c1bad",
   "metadata": {},
   "outputs": [
    {
     "data": {
      "text/plain": [
       "12"
      ]
     },
     "execution_count": 54,
     "metadata": {},
     "output_type": "execute_result"
    }
   ],
   "source": [
    "#ostati element ostatniej macierzy\n",
    "array_3d[1,1,2]"
   ]
  },
  {
   "cell_type": "code",
   "execution_count": 55,
   "id": "d4ebd352-3578-4765-8451-a52edb01fb5d",
   "metadata": {},
   "outputs": [
    {
     "data": {
      "text/plain": [
       "12"
      ]
     },
     "execution_count": 55,
     "metadata": {},
     "output_type": "execute_result"
    }
   ],
   "source": [
    "#ostati element ostatniej macierzy\n",
    "array_3d[-1,-1,-1] "
   ]
  },
  {
   "cell_type": "code",
   "execution_count": 56,
   "id": "a948efdc-69af-4160-bca4-acc420b45900",
   "metadata": {},
   "outputs": [
    {
     "data": {
      "text/plain": [
       "array([[11, 12]])"
      ]
     },
     "execution_count": 56,
     "metadata": {},
     "output_type": "execute_result"
    }
   ],
   "source": [
    "#druga macierz, wiersze od drugiego do końca, kolumny od drugiej do końca\n",
    "array_3d[1,1:,1:]"
   ]
  },
  {
   "cell_type": "code",
   "execution_count": null,
   "id": "82da5804-557c-4ff2-84f3-9eecc87645c7",
   "metadata": {},
   "outputs": [],
   "source": []
  }
 ],
 "metadata": {
  "kernelspec": {
   "display_name": "Python 3 (ipykernel)",
   "language": "python",
   "name": "python3"
  },
  "language_info": {
   "codemirror_mode": {
    "name": "ipython",
    "version": 3
   },
   "file_extension": ".py",
   "mimetype": "text/x-python",
   "name": "python",
   "nbconvert_exporter": "python",
   "pygments_lexer": "ipython3",
   "version": "3.10.7"
  }
 },
 "nbformat": 4,
 "nbformat_minor": 5
}
