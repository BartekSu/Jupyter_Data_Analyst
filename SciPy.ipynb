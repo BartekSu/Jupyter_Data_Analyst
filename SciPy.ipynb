{
 "cells": [
  {
   "cell_type": "code",
   "execution_count": 4,
   "id": "f70836dc-4360-46dc-a43f-4ec3b4bb3738",
   "metadata": {},
   "outputs": [],
   "source": [
    "from scipy import linalg as li\n",
    "import numpy as np"
   ]
  },
  {
   "cell_type": "code",
   "execution_count": 7,
   "id": "a085c742-2894-47b6-b7e0-c9107bf5b8a4",
   "metadata": {},
   "outputs": [],
   "source": [
    "#Test zawiera 30 pytan, łączna wartości pkt to 150\n",
    "                                #(x+y=30) (4x+9y=150)\n",
    "testQuestionVariable = np.array([[1,1],   [4,9]])\n",
    "testQuestionValue = np.array([30,150])"
   ]
  },
  {
   "cell_type": "code",
   "execution_count": 8,
   "id": "caf0205c-2255-4dcf-876d-2e50a8f0191b",
   "metadata": {},
   "outputs": [
    {
     "data": {
      "text/plain": [
       "array([24.,  6.])"
      ]
     },
     "execution_count": 8,
     "metadata": {},
     "output_type": "execute_result"
    }
   ],
   "source": [
    "li.solve(testQuestionVariable,testQuestionValue)"
   ]
  },
  {
   "cell_type": "code",
   "execution_count": null,
   "id": "4e65de35-57a8-45c1-b058-ff9549c3c175",
   "metadata": {},
   "outputs": [],
   "source": []
  }
 ],
 "metadata": {
  "kernelspec": {
   "display_name": "Python 3 (ipykernel)",
   "language": "python",
   "name": "python3"
  },
  "language_info": {
   "codemirror_mode": {
    "name": "ipython",
    "version": 3
   },
   "file_extension": ".py",
   "mimetype": "text/x-python",
   "name": "python",
   "nbconvert_exporter": "python",
   "pygments_lexer": "ipython3",
   "version": "3.10.7"
  }
 },
 "nbformat": 4,
 "nbformat_minor": 5
}
